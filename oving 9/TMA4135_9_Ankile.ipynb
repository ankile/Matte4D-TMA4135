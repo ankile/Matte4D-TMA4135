{
 "cells": [
  {
   "cell_type": "markdown",
   "metadata": {},
   "source": [
    "# Øving 9 TMA4135"
   ]
  },
  {
   "cell_type": "code",
   "execution_count": 47,
   "metadata": {},
   "outputs": [],
   "source": [
    "%matplotlib inline\n",
    "\n",
    "from numpy import *\n",
    "from numpy.linalg import solve, norm\n",
    "from matplotlib.pyplot import *\n",
    "newparams = {'figure.figsize': (8.0, 4.0), 'axes.grid': True,\n",
    "             'lines.markersize': 8, 'lines.linewidth': 2,\n",
    "             'font.size': 14}\n",
    "rcParams.update(newparams)"
   ]
  },
  {
   "cell_type": "markdown",
   "metadata": {},
   "source": [
    "## Oppgave 1"
   ]
  },
  {
   "cell_type": "code",
   "execution_count": 48,
   "metadata": {},
   "outputs": [],
   "source": [
    "def simpson(f, a, b, m=10):\n",
    "    n = 2 * m\n",
    "    x_noder = linspace(a, b, n + 1) \n",
    "    h = (b - a) / n\n",
    "    S1 = f(x_noder[0]) + f(x_noder[n])\n",
    "    S2 = sum(f(x_noder[1:n:2]))       \n",
    "    S3 = sum(f(x_noder[2:n - 1:2]))     \n",
    "    S = h * (S1 + 4 * S2 + 2 * S3) / 3\n",
    "    return S"
   ]
  },
  {
   "cell_type": "code",
   "execution_count": 49,
   "metadata": {},
   "outputs": [],
   "source": [
    "def approximate_for_different_h(f, a, b, exact):\n",
    "    # Approksimerer for forskjellige verdier av h\n",
    "    n = 1\n",
    "    h = (b - a ) / n\n",
    "    steps = []\n",
    "    errors = []\n",
    "    Nmax = 10\n",
    "    for k in range(Nmax):\n",
    "        numres = simpson(f, a, b, n)\n",
    "        eh = abs(exact - numres)\n",
    "        print(f'h = {h:8.2e},   T(h) = {numres:10.8f},   e(h) = {eh:8.2e}')\n",
    "        steps.append(h)\n",
    "        errors.append(eh)\n",
    "        n = 2 * n\n",
    "        h = (b - a) / n\n",
    "\n",
    "    # Finn orden og feilkonstant C\n",
    "    print('\\nP sin orden og konstanten C')\n",
    "    for k in range(1, Nmax-1):\n",
    "        p = log(errors[k+1]/errors[k])/log(steps[k+1]/steps[k])\n",
    "        C = errors[k+1]/steps[k+1]**p\n",
    "        print(f'h = {steps[k]:8.2e},  p = {p:4.2f},  C = {C:6.4f}')\n",
    "\n",
    "    # Plott det hele\n",
    "    clf()\n",
    "    loglog(steps, errors, 'o-')\n",
    "    xlabel('h')\n",
    "    ylabel('e(h)')\n",
    "    title('Plott av feilen for Simpsons regel')\n",
    "    grid(True)"
   ]
  },
  {
   "cell_type": "markdown",
   "metadata": {},
   "source": [
    "### Oppgave 1 a)"
   ]
  },
  {
   "cell_type": "code",
   "execution_count": 50,
   "metadata": {},
   "outputs": [
    {
     "name": "stdout",
     "output_type": "stream",
     "text": [
      "h = 2.00e+00,   T(h) = 0.78346746,   e(h) = 4.77e-02\n",
      "h = 1.00e+00,   T(h) = 0.73913060,   e(h) = 3.37e-03\n",
      "h = 5.00e-01,   T(h) = 0.73597650,   e(h) = 2.18e-04\n",
      "h = 2.50e-01,   T(h) = 0.73577259,   e(h) = 1.37e-05\n",
      "h = 1.25e-01,   T(h) = 0.73575974,   e(h) = 8.59e-07\n",
      "h = 6.25e-02,   T(h) = 0.73575894,   e(h) = 5.37e-08\n",
      "h = 3.12e-02,   T(h) = 0.73575889,   e(h) = 3.36e-09\n",
      "h = 1.56e-02,   T(h) = 0.73575888,   e(h) = 2.10e-10\n",
      "h = 7.81e-03,   T(h) = 0.73575888,   e(h) = 1.31e-11\n",
      "h = 3.91e-03,   T(h) = 0.73575888,   e(h) = 8.19e-13\n",
      "\n",
      "P sin orden og konstanten C\n",
      "h = 1.00e+00,  p = 3.95,  C = 0.0034\n",
      "h = 5.00e-01,  p = 3.99,  C = 0.0035\n",
      "h = 2.50e-01,  p = 4.00,  C = 0.0035\n",
      "h = 1.25e-01,  p = 4.00,  C = 0.0035\n",
      "h = 6.25e-02,  p = 4.00,  C = 0.0035\n",
      "h = 3.12e-02,  p = 4.00,  C = 0.0035\n",
      "h = 1.56e-02,  p = 4.00,  C = 0.0035\n",
      "h = 7.81e-03,  p = 4.00,  C = 0.0035\n"
     ]
    },
    {
     "data": {
      "image/png": "[encoded data removed]",
      "text/plain": [
       "<Figure size 576x288 with 1 Axes>"
      ]
     },
     "metadata": {
      "needs_background": "light"
     },
     "output_type": "display_data"
    }
   ],
   "source": [
    "# Funksjonen som tilnærmes\n",
    "def f1(x):\n",
    "    return x * exp(x)\n",
    "\n",
    "# Integrasjonsintervall og eksakt løsning\n",
    "a, b = -1, 1\n",
    "exact = 2 / exp(1)\n",
    "\n",
    "# Selve approksimeringen og plottingen\n",
    "approximate_for_different_h(f1, a, b, exact)\n"
   ]
  },
  {
   "cell_type": "markdown",
   "metadata": {},
   "source": [
    "##### Konklusjon\n",
    "Man kan se av den første tabellen at når man halverer størrelsen på h så minker `e(h)` sånn ca med 1/16 del altså `1 / 2 ** 4`, som betyr at `p = 4`, hvilket viser det vi ville vise. Ser også at plottet av `e(h)` med logaritmiske akser gir en lineær graf."
   ]
  },
  {
   "cell_type": "markdown",
   "metadata": {},
   "source": [
    "### Oppgave 1 b)"
   ]
  },
  {
   "cell_type": "code",
   "execution_count": 51,
   "metadata": {},
   "outputs": [
    {
     "name": "stdout",
     "output_type": "stream",
     "text": [
      "h = 2.00e+00,   T(h) = 1.33333333,   e(h) = 4.42e-01\n",
      "h = 1.00e+00,   T(h) = 1.63540364,   e(h) = 1.40e-01\n",
      "h = 5.00e-01,   T(h) = 1.72886020,   e(h) = 4.66e-02\n",
      "h = 2.50e-01,   T(h) = 1.75945841,   e(h) = 1.60e-02\n",
      "h = 1.25e-01,   T(h) = 1.76989907,   e(h) = 5.60e-03\n",
      "h = 6.25e-02,   T(h) = 1.77353123,   e(h) = 1.97e-03\n",
      "h = 3.12e-02,   T(h) = 1.77480571,   e(h) = 6.94e-04\n",
      "h = 1.56e-02,   T(h) = 1.77525467,   e(h) = 2.45e-04\n",
      "h = 7.81e-03,   T(h) = 1.77541312,   e(h) = 8.66e-05\n",
      "h = 3.91e-03,   T(h) = 1.77546909,   e(h) = 3.06e-05\n",
      "\n",
      "P sin orden og konstanten C\n",
      "h = 1.00e+00,  p = 1.59,  C = 0.1401\n",
      "h = 5.00e-01,  p = 1.54,  C = 0.1356\n",
      "h = 2.50e-01,  p = 1.52,  C = 0.1316\n",
      "h = 1.25e-01,  p = 1.51,  C = 0.1290\n",
      "h = 6.25e-02,  p = 1.50,  C = 0.1274\n",
      "h = 3.12e-02,  p = 1.50,  C = 0.1265\n",
      "h = 1.56e-02,  p = 1.50,  C = 0.1260\n",
      "h = 7.81e-03,  p = 1.50,  C = 0.1257\n"
     ]
    },
    {
     "data": {
      "image/png": "[encoded data removed]",
      "text/plain": [
       "<Figure size 576x288 with 1 Axes>"
      ]
     },
     "metadata": {
      "needs_background": "light"
     },
     "output_type": "display_data"
    }
   ],
   "source": [
    "# Funksjonen som tilnærmes\n",
    "def f2(x):\n",
    "    return sqrt(1 - x ** 2) * exp(x)\n",
    "\n",
    "# Integrasjonsintervall og eksakt løsning\n",
    "a, b = -1, 1\n",
    "exact = 1.7754996892121809469\n",
    "\n",
    "# Selve approksimeringen og plottingen\n",
    "approximate_for_different_h(f2, a, b, exact)\n"
   ]
  },
  {
   "cell_type": "markdown",
   "metadata": {},
   "source": [
    "#### Plott av integrandene"
   ]
  },
  {
   "cell_type": "code",
   "execution_count": 52,
   "metadata": {},
   "outputs": [
    {
     "data": {
      "image/png": "[encoded data removed]",
      "text/plain": [
       "<Figure size 576x288 with 2 Axes>"
      ]
     },
     "metadata": {
      "needs_background": "light"
     },
     "output_type": "display_data"
    }
   ],
   "source": [
    "x = linspace(a, b, 101)\n",
    "\n",
    "# Plott av funksjonen gitt i a)\n",
    "subplot(2,1,1)                  \n",
    "plot(x, f1(x))\n",
    "xlabel('x')\n",
    "ylabel('f1(x)')\n",
    "\n",
    "# Plott av funksjonen gitt i b)\n",
    "subplot(2,1,2)\n",
    "plot(x, f2(x))\n",
    "xlabel('x')\n",
    "ylabel('f2(x)');\n"
   ]
  },
  {
   "cell_type": "markdown",
   "metadata": {},
   "source": [
    "##### Konklusjon\n",
    "Ser at p er av størrelsesorden 1.5, kontra 4 i sted, noe som er mye dårligere."
   ]
  },
  {
   "cell_type": "markdown",
   "metadata": {},
   "source": [
    "### Oppgave 3 a)"
   ]
  },
  {
   "cell_type": "code",
   "execution_count": 53,
   "metadata": {},
   "outputs": [
    {
     "data": {
      "image/png": "[encoded data removed]",
      "text/plain": [
       "<Figure size 576x288 with 1 Axes>"
      ]
     },
     "metadata": {
      "needs_background": "light"
     },
     "output_type": "display_data"
    }
   ],
   "source": [
    "def f(x):\n",
    "    return exp(x) + x**2 - x - 4\n",
    "\n",
    "x = linspace(1, 2, 101)\n",
    "plot(x, f(x))\n",
    "xlabel('x')\n",
    "ylabel('f(x)');"
   ]
  },
  {
   "cell_type": "markdown",
   "metadata": {},
   "source": [
    "##### Numerisk løsning"
   ]
  },
  {
   "cell_type": "code",
   "execution_count": 54,
   "metadata": {},
   "outputs": [],
   "source": [
    "def newton(f, df, x0, tol=1.e-8, max_iter=30):\n",
    "    x = x0\n",
    "    print('k ={:3d}, x = {:18.15f}, f(x) = {:10.3e}'.format(0, x, f(x)))\n",
    "    for k in range(max_iter):\n",
    "        fx = f(x)\n",
    "        if abs(fx) < tol:\n",
    "            break \n",
    "        x = x - fx/df(x)\n",
    "        print('k ={:3d}, x = {:18.15f}, f(x) = {:10.3e}'.format(k+1, x, f(x)))\n",
    "    return x, k+1"
   ]
  },
  {
   "cell_type": "code",
   "execution_count": 55,
   "metadata": {},
   "outputs": [
    {
     "name": "stdout",
     "output_type": "stream",
     "text": [
      "k =  0, x =  1.300000000000000, f(x) =  5.930e-02\n",
      "k =  1, x =  1.288746758560088, f(x) =  3.581e-04\n",
      "k =  2, x =  1.288677969382023, f(x) =  1.332e-08\n",
      "k =  3, x =  1.288677966823868, f(x) = -4.441e-16\n",
      "\n",
      "Newton gjorde 4 iterasjoner og fikk 1.2887 som tilnærmet løsning.\n"
     ]
    }
   ],
   "source": [
    "def f(x):\n",
    "    return exp(x) + x ** 2 - x - 4\n",
    "\n",
    "def df(x):\n",
    "    return exp(x) + 2 * x - 1\n",
    "\n",
    "x_0 = 1.3\n",
    "\n",
    "x, k = newton(f, df, x_0)\n",
    "\n",
    "print(f'\\nNewton gjorde {k} iterasjoner og fikk {x:.4f} som tilnærmet løsning.')"
   ]
  },
  {
   "cell_type": "markdown",
   "metadata": {},
   "source": [
    "### Oppgave 3 b)"
   ]
  },
  {
   "cell_type": "code",
   "execution_count": 56,
   "metadata": {},
   "outputs": [],
   "source": [
    "def fixpoint(g, x0, tol=1.e-8, max_iter=30):\n",
    "    x = x0\n",
    "    print('k ={:3d}, x = {:14.10f}'.format(0, x))  \n",
    "    for k in range(max_iter):        \n",
    "        x_old = x                        # Store old values for error estimation \n",
    "        x = g(x)                         # The iteration\n",
    "        err = abs(x - x_old)               # Error estimate\n",
    "        print('k ={:3d}, x = {:14.10f}'.format(k + 1, x))\n",
    "        if err < tol:          # The solution is accepted \n",
    "            break\n",
    "    return x, k+1"
   ]
  },
  {
   "cell_type": "code",
   "execution_count": 57,
   "metadata": {},
   "outputs": [
    {
     "name": "stdout",
     "output_type": "stream",
     "text": [
      "\n",
      "Function 1:\n",
      "k =  0, x =   1.5000000000\n",
      "k =  1, x =   1.1786549963\n",
      "k =  2, x =   1.3322149248\n",
      "k =  3, x =   1.2690350905\n",
      "k =  4, x =   1.2970764687\n",
      "k =  5, x =   1.2850003170\n",
      "k =  6, x =   1.2902719159\n",
      "k =  7, x =   1.2879840175\n",
      "k =  8, x =   1.2889795000\n",
      "k =  9, x =   1.2885468343\n",
      "k = 10, x =   1.2887349735\n",
      "k = 11, x =   1.2886531806\n",
      "k = 12, x =   1.2886887430\n",
      "k = 13, x =   1.2886732816\n",
      "k = 14, x =   1.2886800038\n",
      "k = 15, x =   1.2886770812\n",
      "k = 16, x =   1.2886783519\n",
      "k = 17, x =   1.2886777994\n",
      "k = 18, x =   1.2886780396\n",
      "k = 19, x =   1.2886779352\n",
      "k = 20, x =   1.2886779806\n",
      "k = 21, x =   1.2886779608\n",
      "k = 22, x =   1.2886779694\n",
      "\n",
      "Function 2:\n",
      "k =  0, x =   1.5000000000\n",
      "k =  1, x =   1.0091139329\n",
      "k =  2, x =   1.5053054929\n",
      "k =  3, x =   0.9998878264\n",
      "k =  4, x =   1.5105995169\n",
      "k =  5, x =   0.9905322092\n",
      "k =  6, x =   1.5158710552\n",
      "k =  7, x =   0.9810634053\n",
      "k =  8, x =   1.5211088914\n",
      "k =  9, x =   0.9714992449\n",
      "k = 10, x =   1.5263017049\n",
      "k = 11, x =   0.9618589916\n",
      "k = 12, x =   1.5314381740\n",
      "k = 13, x =   0.9521632379\n",
      "k = 14, x =   1.5365070839\n",
      "k = 15, x =   0.9424337713\n",
      "k = 16, x =   1.5414974395\n",
      "k = 17, x =   0.9326934087\n",
      "k = 18, x =   1.5463985775\n",
      "k = 19, x =   0.9229658020\n",
      "k = 20, x =   1.5512002794\n",
      "k = 21, x =   0.9132752165\n",
      "k = 22, x =   1.5558928786\n",
      "k = 23, x =   0.9036462847\n",
      "k = 24, x =   1.5604673626\n",
      "k = 25, x =   0.8941037426\n",
      "k = 26, x =   1.5649154652\n",
      "k = 27, x =   0.8846721509\n",
      "k = 28, x =   1.5692297481\n",
      "k = 29, x =   0.8753756100\n",
      "k = 30, x =   1.5734036689\n",
      "\n",
      "Function 3:\n",
      "k =  0, x =   1.5000000000\n",
      "k =  1, x =   0.7788007831\n",
      "k =  2, x =   0.0731920437\n",
      "k =  3, x =   0.0198123285\n",
      "k =  4, x =   0.0186894676\n",
      "k =  5, x =   0.0186676867\n",
      "k =  6, x =   0.0186672649\n",
      "k =  7, x =   0.0186672567\n"
     ]
    }
   ],
   "source": [
    "def g1(x):\n",
    "    return log(4 + x - x ** 2)\n",
    "\n",
    "def g2(x):\n",
    "    return sqrt(-exp(x) + x + 4)\n",
    "\n",
    "def g3(x):\n",
    "    return exp(x + x ** 2 - 4)\n",
    "\n",
    "\n",
    "gs = [g1, g2, g3]\n",
    "# x_0 = 1.2886779694\n",
    "x_0 = 1.5\n",
    "\n",
    "\n",
    "for i, g in enumerate(gs, start=1):\n",
    "\n",
    "    print(f'\\nFunction {i}:')\n",
    "    x, k = fixpoint(g, x_0)\n"
   ]
  },
  {
   "cell_type": "markdown",
   "metadata": {},
   "source": [
    "##### Konklusjon:\n",
    "Både funksjon 1 og 3 konvergerer for startverdi `x = 1.5`, men funksjon nummer 3 konvergerer mot en verdi for x som ikke er en løsning for `f(x)`. Funksjon 2 ser man hopper mellom `≈1.5` og `≈1.0`, og ser ikke ut til å konvergere noen gang."
   ]
  },
  {
   "cell_type": "markdown",
   "metadata": {},
   "source": [
    "### Oppgave 4 c)"
   ]
  },
  {
   "cell_type": "code",
   "execution_count": 58,
   "metadata": {},
   "outputs": [
    {
     "name": "stdout",
     "output_type": "stream",
     "text": [
      "k =  0, x =   0.7390000000\n",
      "k =  1, x =   0.7391424773\n",
      "k =  2, x =   0.7390465043\n",
      "k =  3, x =   0.7391111535\n",
      "k =  4, x =   0.7390676054\n",
      "k =  5, x =   0.7390969401\n",
      "k =  6, x =   0.7390771799\n",
      "k =  7, x =   0.7390904906\n",
      "k =  8, x =   0.7390815244\n",
      "k =  9, x =   0.7390875642\n",
      "k = 10, x =   0.7390834957\n",
      "k = 11, x =   0.7390862363\n",
      "k = 12, x =   0.7390843902\n",
      "k = 13, x =   0.7390856337\n",
      "k = 14, x =   0.7390847961\n",
      "k = 15, x =   0.7390853603\n",
      "k = 16, x =   0.7390849802\n",
      "k = 17, x =   0.7390852363\n",
      "k = 18, x =   0.7390850638\n",
      "k = 19, x =   0.7390851800\n",
      "k = 20, x =   0.7390851017\n",
      "k = 21, x =   0.7390851544\n",
      "k = 22, x =   0.7390851189\n",
      "k = 23, x =   0.7390851428\n",
      "k = 24, x =   0.7390851267\n",
      "k = 25, x =   0.7390851376\n",
      "k = 26, x =   0.7390851303\n"
     ]
    }
   ],
   "source": [
    "# Den inverse funksjonen til arccos(x)\n",
    "def g(x):\n",
    "    return cos(x)\n",
    "\n",
    "x_0 = 0.739\n",
    "\n",
    "x, k = fixpoint(g, x_0)"
   ]
  },
  {
   "cell_type": "markdown",
   "metadata": {},
   "source": [
    "Med fikspunktmetoden får jeg fikspunkt for `x = 0.7390851303` for `cos(x)`, som betyr at den inverse, `arccos(x)`, også har fikspunkt i samme punkt."
   ]
  },
  {
   "cell_type": "markdown",
   "metadata": {},
   "source": [
    "### Oppgave 5"
   ]
  },
  {
   "cell_type": "code",
   "execution_count": 59,
   "metadata": {},
   "outputs": [],
   "source": [
    "set_printoptions(precision=15)"
   ]
  },
  {
   "cell_type": "code",
   "execution_count": 60,
   "metadata": {},
   "outputs": [],
   "source": [
    "def newton_system(f, jac, x0, tol = 1.e-10, max_iter=20):\n",
    "    x = x0\n",
    "    print('k ={:3d}, x = '.format(0), x)\n",
    "    for k in range(max_iter):\n",
    "        fx = f(x)\n",
    "        if norm(fx, inf) < tol:\n",
    "            break\n",
    "        Jx = jac(x)\n",
    "        delta = solve(Jx, -fx) \n",
    "        x = x + delta\n",
    "        print('k ={:3d}, x = '.format(k+1), x)\n",
    "    return x, k + 1"
   ]
  },
  {
   "cell_type": "markdown",
   "metadata": {},
   "source": [
    "#### Oppgave 5 b)"
   ]
  },
  {
   "cell_type": "code",
   "execution_count": 61,
   "metadata": {},
   "outputs": [
    {
     "name": "stdout",
     "output_type": "stream",
     "text": [
      "k =  0, x =  [2. 0.]\n",
      "k =  1, x =  [1.5 0.5]\n",
      "k =  2, x =  [1.942307692307692 0.519230769230769]\n",
      "k =  3, x =  [1.934954069472256 0.516817305114424]\n",
      "k =  4, x =  [1.931072944087003 0.517844763641189]\n",
      "k =  5, x =  [1.932048989612196 0.517585088122218]\n",
      "k =  6, x =  [1.931800888907705 0.517651684094069]\n",
      "k =  7, x =  [1.931864662472829 0.517634603673892]\n",
      "k =  8, x =  [1.931848315185697 0.517638984421126]\n",
      "k =  9, x =  [1.931852508501114 0.517637860858834]\n",
      "k = 10, x =  [1.931851433050457 0.517638149027152]\n",
      "k = 11, x =  [1.931851708881834 0.517638075118501]\n",
      "k = 12, x =  [1.9318516381375   0.517638094074398]\n",
      "k = 13, x =  [1.931851656281832 0.517638089212639]\n",
      "k = 14, x =  [1.931851651628222 0.51763809045957 ]\n",
      "k = 15, x =  [1.931851652821768 0.517638090139761]\n",
      "k = 16, x =  [1.931851652515651 0.517638090221785]\n",
      "k = 17, x =  [1.931851652594163 0.517638090200747]\n",
      "k = 18, x =  [1.931851652574026 0.517638090206143]\n",
      "k = 19, x =  [1.931851652579191 0.517638090204759]\n",
      "k = 20, x =  [1.931851652577866 0.517638090205114]\n",
      "\n",
      "Test: f(x)=[-9.694467451026867e-13  0.000000000000000e+00]\n"
     ]
    }
   ],
   "source": [
    "def f(x):               \n",
    "    return array([x[0]**2 + x[1]**2 - 4, \n",
    "                  x[0] * x[1] - 1])\n",
    "\n",
    "def jac(x):\n",
    "    J = array(\n",
    "        [[2 * x[0] + x[1]**2, x[0]**2 + 2 * x[1]],\n",
    "         [x[1], x[0]]])\n",
    "    return J\n",
    "\n",
    "x0 = array([2.0, 0.0])\n",
    "max_iter = 22\n",
    "x, nit = newton_system(f, jac, x0, tol=1.e-12, max_iter=max_iter)\n",
    "\n",
    "print(f'\\nTest: f(x)={f(x)}')\n",
    "if nit == max_iter:\n",
    "    print('Advarsel: Konvergens ble ikke oppnådd')"
   ]
  },
  {
   "cell_type": "markdown",
   "metadata": {},
   "source": [
    "##### Konklusjon\n",
    "Numeriske beregninger bekrefter beregningene gjort på ark."
   ]
  },
  {
   "cell_type": "markdown",
   "metadata": {},
   "source": [
    "#### Oppgave 5 c)"
   ]
  },
  {
   "cell_type": "code",
   "execution_count": 62,
   "metadata": {},
   "outputs": [
    {
     "name": "stdout",
     "output_type": "stream",
     "text": [
      "k =  0, x =  [2. 0.]\n",
      "k =  1, x =  [1.  0.5]\n",
      "k =  2, x =  [0.8 1.1]\n",
      "k =  3, x =  [1.052054794520548 0.903424657534247]\n",
      "k =  4, x =  [0.9080781203748   1.074157052863439]\n",
      "k =  5, x =  [1.015813361106975 0.973787839927933]\n",
      "k =  6, x =  [0.91997149397017  1.076309572835665]\n",
      "k =  7, x =  [0.99213785239008  1.002560039785175]\n",
      "k =  8, x =  [1.166995847331044 0.831229611538886]\n",
      "k =  9, x =  [1.017170285381904 0.963619061909634]\n",
      "k = 10, x =  [0.883667169914659 1.109594099541358]\n",
      "k = 11, x =  [0.985455545920474 1.003835209434926]\n",
      "k = 12, x =  [1.188988963675573 0.807429611873142]\n",
      "k = 13, x =  [1.016927793067913 0.957895589443796]\n",
      "k = 14, x =  [0.861732408970976 1.129540348644775]\n",
      "k = 15, x =  [0.9806747464577 1.0045459839213]\n",
      "k = 16, x =  [1.199114430653456 0.79594921285738 ]\n",
      "k = 17, x =  [1.016349391048784 0.955264702124353]\n",
      "k = 18, x =  [0.849399151070507 1.140829798762366]\n",
      "k = 19, x =  [0.97764255070075  1.005058819674244]\n",
      "k = 20, x =  [1.201804642214724 0.792420412073888]\n",
      "k = 21, x =  [1.015765666960514 0.95474841844365 ]\n",
      "k = 22, x =  [0.8433653565087   1.146523220486379]\n",
      "k = 23, x =  [0.975920269897806 1.005522348369169]\n",
      "k = 24, x =  [1.1998339398381   0.793968344207888]\n",
      "k = 25, x =  [1.015235345851026 0.955603439727446]\n",
      "k = 26, x =  [0.841387689223252 1.148629648709229]\n",
      "k = 27, x =  [0.975096842172087 1.005978235075631]\n",
      "k = 28, x =  [1.19498212458971  0.798690097221101]\n",
      "k = 29, x =  [1.014746042480767 0.957296975747743]\n",
      "k = 30, x =  [0.842003584996354 1.1484310195328  ]\n",
      "k = 31, x =  [0.974867620624774 1.006426617658263]\n",
      "k = 32, x =  [1.188410670015559 0.8053243070829  ]\n",
      "k = 33, x =  [1.014277016235079 0.959461314880024]\n",
      "k = 34, x =  [0.84427246594158  1.146740753012009]\n",
      "k = 35, x =  [0.975025693831625 1.006854989689359]\n",
      "k = 36, x =  [1.180895751047084 0.813023401003702]\n",
      "k = 37, x =  [1.013814996974455 0.961846599846987]\n",
      "k = 38, x =  [0.847582181470212 1.144084938413051]\n",
      "k = 39, x =  [0.975433934223904 1.00724950805823 ]\n",
      "k = 40, x =  [1.172967550722606 0.821208217032203]\n",
      "\n",
      "Test: f(x)=[ 0.050235810769399 -0.036749409034458]\n",
      "Advarsel: Konvergens ble ikke oppnådd\n"
     ]
    }
   ],
   "source": [
    "def f(x):               \n",
    "    return array([x[0]**2 + x[1]**2 - 2, \n",
    "                  x[0] * x[1] - 1])\n",
    "\n",
    "def jac(x):\n",
    "    J = array(\n",
    "        [[2 * x[0] + x[1]**2, x[0]**2 + 2 * x[1]],\n",
    "         [x[1], x[0]]])\n",
    "    return J\n",
    "\n",
    "x0 = array([2.0, 0.0])\n",
    "max_iter = 40\n",
    "x, nit = newton_system(f, jac, x0, tol=1.e-12, max_iter=max_iter)\n",
    "\n",
    "print(f'\\nTest: f(x)={f(x)}')\n",
    "if nit == max_iter:\n",
    "    print('Advarsel: Konvergens ble ikke oppnådd')"
   ]
  },
  {
   "cell_type": "markdown",
   "metadata": {},
   "source": [
    "##### Konklusjon\n",
    "Ser at metoden ikke konvergerer lenger. Dette kan forklares ved at den nye utvidede matriser for ligningssystemet vi ønsker å løse ikke lenger er av rang 2, men er av rang 1, hvilket betyr at løsningen ikke er entydig lenger."
   ]
  }
 ],
 "metadata": {
  "kernelspec": {
   "display_name": "Python 3",
   "language": "python",
   "name": "python3"
  },
  "language_info": {
   "codemirror_mode": {
    "name": "ipython",
    "version": 3
   },
   "file_extension": ".py",
   "mimetype": "text/x-python",
   "name": "python",
   "nbconvert_exporter": "python",
   "pygments_lexer": "ipython3",
   "version": "3.7.0"
  }
 },
 "nbformat": 4,
 "nbformat_minor": 2
}
